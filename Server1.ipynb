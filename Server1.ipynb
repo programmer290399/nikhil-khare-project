{
  "nbformat": 4,
  "nbformat_minor": 0,
  "metadata": {
    "colab": {
      "name": "Server1.ipynb",
      "provenance": [],
      "collapsed_sections": []
    },
    "kernelspec": {
      "display_name": "Python 3",
      "name": "python3"
    },
    "language_info": {
      "name": "python"
    }
  },
  "cells": [
    {
      "cell_type": "code",
      "metadata": {
        "id": "PdVw48rHouCU"
      },
      "source": [
        "import json\n",
        "import pickle\n",
        "import numpy as np\n",
        "\n",
        "__location = None\n",
        "__data_columns = None\n",
        "__model = None\n",
        "\n",
        "def get_estimated_price(location,sqft,bhk,bath):\n",
        "    try:\n",
        "        loc_index = __data_columns.index(location.lower())\n",
        "    except:\n",
        "        loc_index = -1\n",
        "\n",
        "    x = np.zeros(len(X.columns))\n",
        "    x[0] = sqft\n",
        "    x[1] = bath\n",
        "    x[2] = bhk\n",
        "    if loc_index >= 0:\n",
        "        x[loc_index] = 1\n",
        "\n",
        "    return round(__model.predict([x])[0],2)\n",
        "\n",
        "def get_Location_names():\n",
        "  load_saved_artifacts()\n",
        "  return __location\n",
        "\n",
        "def load_saved_artifacts():\n",
        "  print(\"Loading saved artifacts...start\")\n",
        "  global __data_cloumns\n",
        "  global __location\n",
        "  global __model\n",
        "  with open(\"/content/drive/My Drive/columns.json\",'r') as f:\n",
        "    __data_cloumns = json.load(f)['data_columns']\n",
        "    __location = __data_columns[3:]"
      ],
      "execution_count": null,
      "outputs": []
    },
    {
      "cell_type": "markdown",
      "metadata": {
        "id": "d4UNLyZZ9OEl"
      },
      "source": [
        "# New Section"
      ]
    },
    {
      "cell_type": "markdown",
      "metadata": {
        "id": "K0bdW7of9PAT"
      },
      "source": [
        "# New Section"
      ]
    },
    {
      "cell_type": "code",
      "metadata": {
        "colab": {
          "base_uri": "https://localhost:8080/"
        },
        "id": "vaUvyoqLO4UZ",
        "outputId": "348106b6-83b5-490b-a938-dfdd23669e89"
      },
      "source": [
        "!pip install flask_ngrok\n",
        "!pip install flask flask-cors"
      ],
      "execution_count": null,
      "outputs": [
        {
          "name": "stdout",
          "output_type": "stream",
          "text": [
            "Requirement already satisfied: flask_ngrok in /usr/local/lib/python3.7/dist-packages (0.0.25)\n",
            "Requirement already satisfied: requests in /usr/local/lib/python3.7/dist-packages (from flask_ngrok) (2.23.0)\n",
            "Requirement already satisfied: Flask>=0.8 in /usr/local/lib/python3.7/dist-packages (from flask_ngrok) (1.1.4)\n",
            "Requirement already satisfied: itsdangerous<2.0,>=0.24 in /usr/local/lib/python3.7/dist-packages (from Flask>=0.8->flask_ngrok) (1.1.0)\n",
            "Requirement already satisfied: click<8.0,>=5.1 in /usr/local/lib/python3.7/dist-packages (from Flask>=0.8->flask_ngrok) (7.1.2)\n",
            "Requirement already satisfied: Jinja2<3.0,>=2.10.1 in /usr/local/lib/python3.7/dist-packages (from Flask>=0.8->flask_ngrok) (2.11.3)\n",
            "Requirement already satisfied: Werkzeug<2.0,>=0.15 in /usr/local/lib/python3.7/dist-packages (from Flask>=0.8->flask_ngrok) (1.0.1)\n",
            "Requirement already satisfied: MarkupSafe>=0.23 in /usr/local/lib/python3.7/dist-packages (from Jinja2<3.0,>=2.10.1->Flask>=0.8->flask_ngrok) (2.0.1)\n",
            "Requirement already satisfied: idna<3,>=2.5 in /usr/local/lib/python3.7/dist-packages (from requests->flask_ngrok) (2.10)\n",
            "Requirement already satisfied: certifi>=2017.4.17 in /usr/local/lib/python3.7/dist-packages (from requests->flask_ngrok) (2021.10.8)\n",
            "Requirement already satisfied: chardet<4,>=3.0.2 in /usr/local/lib/python3.7/dist-packages (from requests->flask_ngrok) (3.0.4)\n",
            "Requirement already satisfied: urllib3!=1.25.0,!=1.25.1,<1.26,>=1.21.1 in /usr/local/lib/python3.7/dist-packages (from requests->flask_ngrok) (1.24.3)\n",
            "Requirement already satisfied: flask in /usr/local/lib/python3.7/dist-packages (1.1.4)\n",
            "Requirement already satisfied: flask-cors in /usr/local/lib/python3.7/dist-packages (3.0.10)\n",
            "Requirement already satisfied: click<8.0,>=5.1 in /usr/local/lib/python3.7/dist-packages (from flask) (7.1.2)\n",
            "Requirement already satisfied: Jinja2<3.0,>=2.10.1 in /usr/local/lib/python3.7/dist-packages (from flask) (2.11.3)\n",
            "Requirement already satisfied: Werkzeug<2.0,>=0.15 in /usr/local/lib/python3.7/dist-packages (from flask) (1.0.1)\n",
            "Requirement already satisfied: itsdangerous<2.0,>=0.24 in /usr/local/lib/python3.7/dist-packages (from flask) (1.1.0)\n",
            "Requirement already satisfied: MarkupSafe>=0.23 in /usr/local/lib/python3.7/dist-packages (from Jinja2<3.0,>=2.10.1->flask) (2.0.1)\n",
            "Requirement already satisfied: Six in /usr/local/lib/python3.7/dist-packages (from flask-cors) (1.15.0)\n"
          ]
        }
      ]
    },
    {
      "cell_type": "code",
      "metadata": {
        "colab": {
          "background_save": true,
          "base_uri": "https://localhost:8080/"
        },
        "id": "tpbZ3nup4SW_",
        "outputId": "87d2a441-cbd7-4fd2-eeab-fb6f4f10b62d"
      },
      "source": [
        "\n",
        "\n",
        "from google.colab import drive\n",
        "from flask_ngrok import run_with_ngrok\n",
        "from flask import Flask,request,jsonify\n",
        "from flask_cors import CORS, cross_origin\n",
        "\n",
        "import sys\n",
        "drive.mount('/content/drive',force_remount=True)\n",
        "# sys.path.append('/content/drive/My Drive/Colab Notebooks/')\n",
        "# import util1\n",
        "\n",
        "\n",
        "# !cat \"/content/drive/My Drive/Colab Notebooks/util1.py\"\n",
        "\n",
        "\n",
        "app = Flask(__name__)\n",
        "CORS(app, support_credentials=True)\n",
        "run_with_ngrok(app)\n",
        "@app.route('/get_location_names')\n",
        "@cross_origin(supports_credentials=True)\n",
        "def get_location_names():\n",
        "  response = jsonify({\n",
        "      'location' : get_Location_names()\n",
        "  })\n",
        "  # response.header.add('Access-Control-Allow-Origin','*')\n",
        "\n",
        "  return response\n",
        "\n",
        "@app.route('/predict_home_price',methods=['POST'])\n",
        "def predict_home_price():\n",
        "  total_sqft = float(request.form['total_sqft'])\n",
        "  location = request.form('location')\n",
        "  bhk = int(request.form['BHK'])\n",
        "  bath = int(request.form['bath'])\n",
        "\n",
        "  response = jsonify({\n",
        "      'estimated_price': get_estimated_price(location,total_sqft,bhk,bath)\n",
        "  })\n",
        "  # response.header.add('Access-Control-Allow-Origin','*')\n",
        "\n",
        "  return response\n",
        "\n",
        "if __name__ == \"__main__\":\n",
        "  print(\"Starting Python Flask Server for House Price Prediction...\")\n",
        "  app.run()"
      ],
      "execution_count": null,
      "outputs": [
        {
          "name": "stdout",
          "output_type": "stream",
          "text": [
            "Mounted at /content/drive\n",
            "Starting Python Flask Server for House Price Prediction...\n",
            " * Serving Flask app \"__main__\" (lazy loading)\n",
            " * Environment: production\n",
            "\u001b[31m   WARNING: This is a development server. Do not use it in a production deployment.\u001b[0m\n",
            "\u001b[2m   Use a production WSGI server instead.\u001b[0m\n",
            " * Debug mode: off\n"
          ]
        },
        {
          "name": "stderr",
          "output_type": "stream",
          "text": [
            " * Running on http://127.0.0.1:5000/ (Press CTRL+C to quit)\n"
          ]
        },
        {
          "name": "stdout",
          "output_type": "stream",
          "text": [
            " * Running on http://bc3c-34-86-21-251.ngrok.io\n",
            " * Traffic stats available on http://127.0.0.1:4040\n"
          ]
        },
        {
          "name": "stderr",
          "output_type": "stream",
          "text": [
            "[2021-12-04 17:45:15,002] ERROR in app: Exception on /get_location_names [GET]\n",
            "Traceback (most recent call last):\n",
            "  File \"/usr/local/lib/python3.7/dist-packages/flask/app.py\", line 2447, in wsgi_app\n",
            "    response = self.full_dispatch_request()\n",
            "  File \"/usr/local/lib/python3.7/dist-packages/flask/app.py\", line 1952, in full_dispatch_request\n",
            "    rv = self.handle_user_exception(e)\n",
            "  File \"/usr/local/lib/python3.7/dist-packages/flask_cors/extension.py\", line 165, in wrapped_function\n",
            "    return cors_after_request(app.make_response(f(*args, **kwargs)))\n",
            "  File \"/usr/local/lib/python3.7/dist-packages/flask/app.py\", line 1821, in handle_user_exception\n",
            "    reraise(exc_type, exc_value, tb)\n",
            "  File \"/usr/local/lib/python3.7/dist-packages/flask/_compat.py\", line 39, in reraise\n",
            "    raise value\n",
            "  File \"/usr/local/lib/python3.7/dist-packages/flask/app.py\", line 1950, in full_dispatch_request\n",
            "    rv = self.dispatch_request()\n",
            "  File \"/usr/local/lib/python3.7/dist-packages/flask/app.py\", line 1936, in dispatch_request\n",
            "    return self.view_functions[rule.endpoint](**req.view_args)\n",
            "  File \"/usr/local/lib/python3.7/dist-packages/flask_cors/decorator.py\", line 128, in wrapped_function\n",
            "    resp = make_response(f(*args, **kwargs))\n",
            "  File \"<ipython-input-3-8986d50b74c6>\", line 24, in get_location_names\n",
            "    'location' : get_Location_names()\n",
            "  File \"<ipython-input-1-67dc7f59321e>\", line 25, in get_Location_names\n",
            "    load_saved_artifacts()\n",
            "  File \"<ipython-input-1-67dc7f59321e>\", line 35, in load_saved_artifacts\n",
            "    __location = __data_columns[3:]\n",
            "TypeError: 'NoneType' object is not subscriptable\n",
            "127.0.0.1 - - [04/Dec/2021 17:45:15] \"\u001b[35m\u001b[1mGET /get_location_names HTTP/1.1\u001b[0m\" 500 -\n"
          ]
        },
        {
          "name": "stdout",
          "output_type": "stream",
          "text": [
            "Loading saved artifacts...start\n"
          ]
        }
      ]
    }
  ]
}